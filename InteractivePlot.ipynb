{
 "cells": [
  {
   "cell_type": "markdown",
   "id": "13441b04-8268-4a76-bae0-1456e9422c2a",
   "metadata": {},
   "source": [
    "How to Run this Interactive Draggable Matplotlib Plot\n",
    "(credit to: https://github.com/yuma-m/matplotlib-draggable-plot/tree/master)\n",
    "\n",
    "1. Open this in Jupyter Lab.\r\n",
    "\r\n",
    "2**. Make sure you have matplotlib ipympl install.**d!\r\n",
    "with Conda: conda install -c conda-forge ipympl\r\n",
    "with pip: pip install ipympl (you might need to do python -m pip install ipy\n",
    "\n",
    "(see: https://github.com/matplotlib/ipympl?tab=readme-ov-file#install-the-jupyterlab-extension)mpl)\r\n",
    "\r\n",
    "2. Make sure yo see  this line of code as the first thing that appears in the notebook (this enables the ipympl backend using matplotlib Jupyter ma**gic): %matplotlib **\n",
    "   w4dget\r\n",
    "3. Click on the plot that appears when you run the notebook. A point should appear. Clickclick  click to add on several points, and play around with the draggable plot. Note that you need to be kinda slow and gentle with it- it can be a little slow Right click to remove points you don't want./laggy."
   ]
  },
  {
   "cell_type": "code",
   "execution_count": 1,
   "id": "17132a10-4daa-4ad0-af99-a103a02cb8c9",
   "metadata": {},
   "outputs": [],
   "source": [
    "%matplotlib widget"
   ]
  },
  {
   "cell_type": "code",
   "execution_count": 2,
   "id": "786624aa-b13d-422b-8c18-584aebf07c53",
   "metadata": {},
   "outputs": [],
   "source": [
    "import math\n",
    "\n",
    "import matplotlib.pyplot as plt\n",
    "from matplotlib.backend_bases import MouseEvent"
   ]
  },
  {
   "cell_type": "code",
   "execution_count": 3,
   "id": "c4f2d08d-f940-43c8-85f2-b7154197699a",
   "metadata": {},
   "outputs": [],
   "source": [
    "class DraggablePlotExample(object):\n",
    "    u\"\"\" An example of plot with draggable markers \"\"\"\n",
    "\n",
    "    def __init__(self):\n",
    "        self._figure, self._axes, self._line = None, None, None\n",
    "        self._dragging_point = None\n",
    "        self._points = {}\n",
    "\n",
    "        self._init_plot()\n",
    "\n",
    "    def _init_plot(self):\n",
    "        self._figure = plt.figure(\"Example plot\")\n",
    "        axes = plt.subplot(1, 1, 1)\n",
    "        axes.set_xlim(0, 100)\n",
    "        axes.set_ylim(0, 100)\n",
    "        axes.grid(which=\"both\")\n",
    "        self._axes = axes\n",
    "\n",
    "        self._figure.canvas.mpl_connect('button_press_event', self._on_click)\n",
    "        self._figure.canvas.mpl_connect('button_release_event', self._on_release)\n",
    "        self._figure.canvas.mpl_connect('motion_notify_event', self._on_motion)\n",
    "        plt.show()\n",
    "\n",
    "    def _update_plot(self):\n",
    "        if not self._points:\n",
    "            self._line.set_data([], [])\n",
    "        else:\n",
    "            x, y = zip(*sorted(self._points.items()))\n",
    "            # Add new plot\n",
    "            if not self._line:\n",
    "                self._line, = self._axes.plot(x, y, \"b\", marker=\"o\", markersize=10)\n",
    "            # Update current plot\n",
    "            else:\n",
    "                self._line.set_data(x, y)\n",
    "        self._figure.canvas.draw()\n",
    "\n",
    "    def _add_point(self, x, y=None):\n",
    "        if isinstance(x, MouseEvent):\n",
    "            x, y = int(x.xdata), int(x.ydata)\n",
    "        self._points[x] = y\n",
    "        return x, y\n",
    "\n",
    "    def _remove_point(self, x, _):\n",
    "        if x in self._points:\n",
    "            self._points.pop(x)\n",
    "\n",
    "    def _find_neighbor_point(self, event):\n",
    "        u\"\"\" Find point around mouse position\n",
    "\n",
    "        :rtype: ((int, int)|None)\n",
    "        :return: (x, y) if there are any point around mouse else None\n",
    "        \"\"\"\n",
    "        distance_threshold = 3.0\n",
    "        nearest_point = None\n",
    "        min_distance = math.sqrt(2 * (100 ** 2))\n",
    "        for x, y in self._points.items():\n",
    "            distance = math.hypot(event.xdata - x, event.ydata - y)\n",
    "            if distance < min_distance:\n",
    "                min_distance = distance\n",
    "                nearest_point = (x, y)\n",
    "        if min_distance < distance_threshold:\n",
    "            return nearest_point\n",
    "        return None\n",
    "\n",
    "    def _on_click(self, event):\n",
    "        u\"\"\" callback method for mouse click event\n",
    "\n",
    "        :type event: MouseEvent\n",
    "        \"\"\"\n",
    "        # left click\n",
    "        if event.button == 1 and event.inaxes in [self._axes]:\n",
    "            point = self._find_neighbor_point(event)\n",
    "            if point:\n",
    "                self._dragging_point = point\n",
    "            else:\n",
    "                self._add_point(event)\n",
    "            self._update_plot()\n",
    "        # right click\n",
    "        elif event.button == 3 and event.inaxes in [self._axes]:\n",
    "            point = self._find_neighbor_point(event)\n",
    "            if point:\n",
    "                self._remove_point(*point)\n",
    "                self._update_plot()\n",
    "\n",
    "    def _on_release(self, event):\n",
    "        u\"\"\" callback method for mouse release event\n",
    "\n",
    "        :type event: MouseEvent\n",
    "        \"\"\"\n",
    "        if event.button == 1 and event.inaxes in [self._axes] and self._dragging_point:\n",
    "            self._dragging_point = None\n",
    "            self._update_plot()\n",
    "\n",
    "    def _on_motion(self, event):\n",
    "        u\"\"\" callback method for mouse motion event\n",
    "\n",
    "        :type event: MouseEvent\n",
    "        \"\"\"\n",
    "        if not self._dragging_point:\n",
    "            return\n",
    "        if event.xdata is None or event.ydata is None:\n",
    "            return\n",
    "        self._remove_point(*self._dragging_point)\n",
    "        self._dragging_point = self._add_point(event)\n",
    "        self._update_plot()"
   ]
  },
  {
   "cell_type": "code",
   "execution_count": 4,
   "id": "08a4a266-ec11-4414-94a5-9e0547ff2c70",
   "metadata": {},
   "outputs": [
    {
     "data": {
      "application/vnd.jupyter.widget-view+json": {
       "model_id": "f921e4a3c550458cbd337ff72f5124a0",
       "version_major": 2,
       "version_minor": 0
      },
      "image/png": "[encoded data removed]",
      "text/html": [
       "\n",
       "            <div style=\"display: inline-block;\">\n",
       "                <div class=\"jupyter-widgets widget-label\" style=\"text-align: center;\">\n",
       "                    Example plot\n",
       "                </div>\n",
       "                <img src='data:image/png;base64,iVBORw0KGgoAAAANSUhEUgAAAoAAAAHgCAYAAAA10dzkAAAAOXRFWHRTb2Z0d2FyZQBNYXRwbG90bGliIHZlcnNpb24zLjcuNSwgaHR0cHM6Ly9tYXRwbG90bGliLm9yZy/xnp5ZAAAACXBIWXMAAA9hAAAPYQGoP6dpAAAhaUlEQVR4nO3df4zX9X3A8dcdHMcP+SFnuOMq6M3Q4K+KBaUnZi31LO2skUm60dCFWSObHq1w26x0BQNFEZpahlKoTYdpKrU1G7aSyHI5KIQUDkTsalVgkQyn3rFCj1Mox7fcZ3+s/WZXsFPL3ffr9/14JCR+39/Pffv6fl8FnvlyXyjLsiwLAACSUV7oAQAA6FsCEAAgMQIQACAxAhAAIDECEAAgMQIQACAxAhAAIDECEAAgMQIQACAxAhAAIDECEAAgMQIQACAxAhAAIDECEAAgMQIQACAxAhAAIDECEAAgMQIQACAxAhAAIDECEAAgMQIQACAxAhAAIDECEAAgMQIQACAxAhAAIDECEAAgMQIQACAxAhAAIDECEAAgMQIQACAxAhAAIDECEAAgMQIQACAxAhAAIDECEAAgMQIQACAxAhAAIDECEAAgMQIQACAxAhAAIDECEAAgMQIQACAxAhAAIDECEAAgMQIQACAxAhAAIDECEAAgMQIQACAxAhAAIDECEAAgMQIQACAxAhAAIDHvywDctm1b3HzzzVFbWxtlZWXx1FNP9bg/y7JYtGhRjB49OgYNGhQNDQ1x4MCBHtccPXo0Zs2aFcOGDYsRI0bE7bffHm+99VYfPgsAgMJ4Xwbg8ePH46qrrorVq1ef9f4VK1bEqlWrYu3atdHa2hpDhgyJadOmxcmTJ/PXzJo1K37xi19Ec3NzbNy4MbZt2xZz5szpq6cAAFAwZVmWZYUe4o9RVlYWGzZsiOnTp0fE/777V1tbG3/3d38Xf//3fx8REceOHYvq6up47LHHYubMmfHSSy/FZZddFrt3745JkyZFRMSmTZviz/7sz+K//uu/ora2tlBPBwCg170v3wH8Qw4ePBhtbW3R0NCQPxs+fHhMnjw5duzYERERO3bsiBEjRuTjLyKioaEhysvLo7W1tc9nBgDoS/0LPcC51tbWFhER1dXVPc6rq6vz97W1tcWoUaN63N+/f/8YOXJk/pqz6erqiq6urvzt7u7uOHr0aFRVVUVZWdm5egoAQC/KsizefPPNqK2tjfLyknsv7B0puQDsTcuWLYvFixcXegwA4Bx49dVX48ILLyz0GAVRcgFYU1MTERHt7e0xevTo/Hl7e3tMmDAhf83hw4d7fN1vfvObOHr0aP7rz2bBggXR1NSUv33s2LEYO3Zs7N+/P0aOHHkOnwXvVi6Xiy1btsTUqVOjoqKi0OMkzS6Ki30UD7soHkePHo0PfvCDMXTo0EKPUjAlF4B1dXVRU1MTLS0t+eDr7OyM1tbWuPPOOyMior6+Pjo6OmLPnj0xceLEiIjYvHlzdHd3x+TJk9/2sSsrK6OysvKM85EjR0ZVVdW5fzK8Y7lcLgYPHhxVVVV+YS0wuygu9lE87KL4pPztW+/LAHzrrbfiP/7jP/K3Dx48GM8//3yMHDkyxo4dG/PmzYulS5fGuHHjoq6uLhYuXBi1tbX5Twpfeuml8clPfjLuuOOOWLt2beRyuZg7d27MnDnTJ4ABgJL3vgzAZ599NqZOnZq//bs/lp09e3Y89thjcc8998Tx48djzpw50dHREddff31s2rQpBg4cmP+axx9/PObOnRs33HBDlJeXx4wZM2LVqlV9/lwAAPra+zIAP/axj8Uf+usLy8rKYsmSJbFkyZK3vWbkyJGxfv363hgPAKCopfnZZwCAhAlAAIDECEAAgMQIQACAxAhAAIDECEAAgMQIQACAxAhAAIDECEAAgMQIQACAxAhAAIDECEAAgMQIQACAxAhAAIDECEAAgMQIQACAxAhAAIDECEAAgMQIQACAxAhAAIDECEAAgMQIQACAxAhAAIDECEAAgMQIQACAxAhAAIDECEAAgMQIQACAxAhAAIDECEAAgMQIQACAxAhAAIDECEAAgMQIQACAxAhAAIDECEAAgMQIQACAxAhAAIDECEAAgMQIQACAxAhAAIDECEAAgMQIQACAxAhAAIDECEAAgMQIQACAxAhAAIDECEAAgMQIQACAxAhAAIDECEAAgMQIQACAxAhAAIDECEAAgMQIQACAxAhAAIDECEAAgMQIQACAxAhAAIDECEAAgMQIQACAxAhAAIDECEAAgMSUbACePn06Fi5cGHV1dTFo0KC45JJL4qtf/WpkWZa/JsuyWLRoUYwePToGDRoUDQ0NceDAgQJODQDQ+0o2AJcvXx5r1qyJRx55JF566aVYvnx5rFixIh5++OH8NStWrIhVq1bF2rVro7W1NYYMGRLTpk2LkydPFnByAIDe1b/QA/SWn/70p3HLLbfETTfdFBERF198cXz/+9+PXbt2RcT/vvu3cuXK+MpXvhK33HJLRER897vfjerq6njqqadi5syZBZsdAKA3lew7gNddd120tLTE/v37IyLiZz/7WWzfvj0+9alPRUTEwYMHo62tLRoaGvJfM3z48Jg8eXLs2LGjIDMDAPSFkn0H8N57743Ozs4YP3589OvXL06fPh33339/zJo1KyIi2traIiKiurq6x9dVV1fn7/t9XV1d0dXVlb/d2dkZERG5XC5yuVxvPA3eod+9/vZQeHZRXOyjeNhF8bCDEg7AH/7wh/H444/H+vXr4/LLL4/nn38+5s2bF7W1tTF79uz39JjLli2LxYsXn3G+ZcuWGDx48B87MudAc3NzoUfgt+yiuNhH8bCLwjtx4kShRyi4suz/fiy2hIwZMybuvffeaGxszJ8tXbo0vve978XLL78cr7zySlxyySWxd+/emDBhQv6aj370ozFhwoT4p3/6pzMe82zvAI4ZMybeeOONqKqq6tXnwx+Wy+Wiubk5brzxxqioqCj0OEmzi+JiH8XDLorHkSNHYvTo0XHs2LEYNmxYoccpiJJ9B/DEiRNRXt7zWxz79esX3d3dERFRV1cXNTU10dLSkg/Azs7OaG1tjTvvvPOsj1lZWRmVlZVnnFdUVPjJXCTsonjYRXGxj+JhF4Xn9S/hALz55pvj/vvvj7Fjx8bll18ee/fujYceeig+//nPR0REWVlZzJs3L5YuXRrjxo2Lurq6WLhwYdTW1sb06dMLOzwAQC8q2QB8+OGHY+HChXHXXXfF4cOHo7a2Nv7mb/4mFi1alL/mnnvuiePHj8ecOXOio6Mjrr/++ti0aVMMHDiwgJMDAPSukg3AoUOHxsqVK2PlypVve01ZWVksWbIklixZ0neDAQAUWMn+PYAAAJydAAQASIwABABIjAAEAEiMAAQASIwABABIjAAEAEiMAAQASIwABABIjAAEAEiMAAQASIwABABIjAAEAEiMAAQASIwABABIjAAEAEiMAAQASIwABABIjAAEAEiMAAQASIwABABIjAAEAEiMAAQASIwABABIjAAEAEiMAAQASIwABABIjAAEAEiMAAQASIwABABIjAAEAEiMAAQASIwABABIjAAEAEiMAAQASIwABABIjAAEAEiMAAQASIwABABIjAAEAEiMAAQASIwABABIjAAEAEiMAAQASIwABABIjAAEAEiMAAQASIwABABIjAAEAEiMAAQASIwABABIjAAEAEiMAAQASIwABABIjAAEAEiMAAQASIwABABIjAAEAEiMAAQASIwABABIjAAEAEiMAAQASIwABABITEkH4GuvvRaf+9znoqqqKgYNGhRXXnllPPvss/n7syyLRYsWxejRo2PQoEHR0NAQBw4cKODEAAC9r2QD8Fe/+lVMmTIlKioq4plnnokXX3wxvv71r8f555+fv2bFihWxatWqWLt2bbS2tsaQIUNi2rRpcfLkyQJODgDQu/oXeoDesnz58hgzZkysW7cuf1ZXV5f/7yzLYuXKlfGVr3wlbrnlloiI+O53vxvV1dXx1FNPxcyZM/t8ZgCAvlCyAfjjH/84pk2bFp/5zGdi69at8YEPfCDuuuuuuOOOOyIi4uDBg9HW1hYNDQ35rxk+fHhMnjw5duzYcdYA7Orqiq6urvztzs7OiIjI5XKRy+V6+Rnxh/zu9beHwrOL4mIfxcMuiocdlHAAvvLKK7FmzZpoamqKL3/5y7F79+744he/GAMGDIjZs2dHW1tbRERUV1f3+Lrq6ur8fb9v2bJlsXjx4jPOt2zZEoMHDz73T4J3rbm5udAj8Ft2UVzso3jYReGdOHGi0CMUXMkGYHd3d0yaNCkeeOCBiIi4+uqr44UXXoi1a9fG7Nmz39NjLliwIJqamvK3Ozs7Y8yYMTF16tSoqqo6J3Pz3uRyuWhubo4bb7wxKioqCj1O0uyiuNhH8bCL4nHkyJFCj1BwJRuAo0ePjssuu6zH2aWXXhr/8i//EhERNTU1ERHR3t4eo0ePzl/T3t4eEyZMOOtjVlZWRmVl5RnnFRUVfjIXCbsoHnZRXOyjeNhF4Xn9S/hTwFOmTIl9+/b1ONu/f39cdNFFEfG/HwipqamJlpaW/P2dnZ3R2toa9fX1fTorAEBfKtl3AOfPnx/XXXddPPDAA/EXf/EXsWvXrnj00Ufj0UcfjYiIsrKymDdvXixdujTGjRsXdXV1sXDhwqitrY3p06cXdngAgF5UsgF4zTXXxIYNG2LBggWxZMmSqKuri5UrV8asWbPy19xzzz1x/PjxmDNnTnR0dMT1118fmzZtioEDBxZwcgCA3lWyARgR8elPfzo+/elPv+39ZWVlsWTJkliyZEkfTgUAUFgl+z2AAACcnQAEAEiMAAQASIwABABIjAAEAEiMAAQASIwABABIjAAEAEiMAAQASIwABABIjAAEAEiMAAQASIwABABIjAAEAEiMAAQASIwABABIjAAEAEiMAAQASIwABABIjAAEAEiMAAQASIwABABIjAAEAEiMAAQASIwABABIjAAEAEiMAAQASIwABABIjAAEAEiMAAQASIwABABIjAAEAEiMAAQASIwABABIjAAEAEiMAAQASIwABABIjAAEAEiMAAQASIwABABIjAAEAEiMAAQASIwABABIjAAEAEiMAAQASIwABABIjAAEAEiMAAQASIwABABIjAAEAEiMAAQASIwABABIjAAEAEiMAAQASIwABABIjAAEAEiMAAQASIwABABIjAAEAEiMAAQASIwABABIjAAEAEiMAAQASEwSAfjggw9GWVlZzJs3L3928uTJaGxsjKqqqjjvvPNixowZ0d7eXrghAQD6SMkH4O7du+Nb3/pWfOhDH+pxPn/+/Hj66afjySefjK1bt8brr78et956a4GmBADoOyUdgG+99VbMmjUrvv3tb8f555+fPz927Fh85zvfiYceeig+/vGPx8SJE2PdunXx05/+NHbu3FnAiQEAel//Qg/QmxobG+Omm26KhoaGWLp0af58z549kcvloqGhIX82fvz4GDt2bOzYsSM+8pGPnPXxurq6oqurK3+7s7MzIiJyuVzkcrleeha8E797/e2h8OyiuNhH8bCL4mEHJRyATzzxRDz33HOxe/fuM+5ra2uLAQMGxIgRI3qcV1dXR1tb29s+5rJly2Lx4sVnnG/ZsiUGDx78R8/MH6+5ubnQI/BbdlFc7KN42EXhnThxotAjFFxJBuCrr74ad999dzQ3N8fAgQPP2eMuWLAgmpqa8rc7OztjzJgxMXXq1Kiqqjpn/zu8e7lcLpqbm+PGG2+MioqKQo+TNLsoLvZRPOyieBw5cqTQIxRcSQbgnj174vDhw/HhD384f3b69OnYtm1bPPLII/Fv//ZvcerUqejo6OjxLmB7e3vU1NS87eNWVlZGZWXlGecVFRV+MhcJuygedlFc7KN42EXhef1LNABvuOGG+PnPf97j7Lbbbovx48fHl770pRgzZkxUVFRES0tLzJgxIyIi9u3bF4cOHYr6+vpCjAwA0GdKMgCHDh0aV1xxRY+zIUOGRFVVVf789ttvj6amphg5cmQMGzYsvvCFL0R9ff3bfgAEAKBUlGQAvhPf+MY3ory8PGbMmBFdXV0xbdq0+OY3v1nosQAAel0yAfiTn/ykx+2BAwfG6tWrY/Xq1YUZCACgQEr6L4IGAOBMAhAAIDECEAAgMQIQACAxAhAAIDECEAAgMQIQACAxAhAAIDECEAAgMQIQACAxAhAAIDECEAAgMQIQACAxAhAAIDECEAAgMQIQACAxAhAAIDECEAAgMQIQACAxAhAAIDECEAAgMQIQACAxAhAAIDECEAAgMQIQACAxAhAAIDECEAAgMQIQACAxAhAAIDECEAAgMQIQACAxAhAAIDECEAAgMQIQACAxAhAAIDECEAAgMQIQACAxAhAAIDECEAAgMQIQACAxAhAAIDECEAAgMQIQACAxAhAAIDECEAAgMQIQACAxAhAAIDECEAAgMQIQACAxAhAAIDECEAAgMQIQACAxAhAAIDECEAAgMQIQACAxAhAAIDECEAAgMQIQACAxAhAAIDECEAAgMQIQACAxAhAAIDECEAAgMSUbgMuWLYtrrrkmhg4dGqNGjYrp06fHvn37elxz8uTJaGxsjKqqqjjvvPNixowZ0d7eXqCJAQD6RskG4NatW6OxsTF27twZzc3Nkcvl4hOf+EQcP348f838+fPj6aefjieffDK2bt0ar7/+etx6660FnBoAoPf1L/QAvWXTpk09bj/22GMxatSo2LNnT/zpn/5pHDt2LL7zne/E+vXr4+Mf/3hERKxbty4uvfTS2LlzZ3zkIx8pxNgAAL2uZAPw9x07diwiIkaOHBkREXv27IlcLhcNDQ35a8aPHx9jx46NHTt2nDUAu7q6oqurK3+7s7MzIiJyuVzkcrneHJ//x+9ef3soPLsoLvZRPOyieNhBIgHY3d0d8+bNiylTpsQVV1wRERFtbW0xYMCAGDFiRI9rq6uro62t7ayPs2zZsli8ePEZ51u2bInBgwef87l595qbmws9Ar9lF8XFPoqHXRTeiRMnCj1CwSURgI2NjfHCCy/E9u3b/6jHWbBgQTQ1NeVvd3Z2xpgxY2Lq1KlRVVX1x47JHyGXy0Vzc3PceOONUVFRUehxkmYXxcU+ioddFI8jR44UeoSCK/kAnDt3bmzcuDG2bdsWF154Yf68pqYmTp06FR0dHT3eBWxvb4+ampqzPlZlZWVUVlaecV5RUeEnc5Gwi+JhF8XFPoqHXRSe17+EPwWcZVnMnTs3NmzYEJs3b466uroe90+cODEqKiqipaUlf7Zv3744dOhQ1NfX9/W4AAB9pmTfAWxsbIz169fHj370oxg6dGj++/qGDx8egwYNiuHDh8ftt98eTU1NMXLkyBg2bFh84QtfiPr6ep8ABgBKWskG4Jo1ayIi4mMf+1iP83Xr1sVf//VfR0TEN77xjSgvL48ZM2ZEV1dXTJs2Lb75zW/28aQAAH2rZAMwy7L/95qBAwfG6tWrY/Xq1X0wEQBAcSjZ7wEEAODsBCAAQGIEIABAYgQgAEBiBCAAQGIEIABAYgQgAEBiBCAAQGIEIABAYgQgAEBiBCAAQGIEIABAYgQgAEBiBCAAQGIEIABAYgQgAEBiBCAAQGIEIABAYgQgAEBiBCAAQGIEIABAYgQgAEBiBCAAQGIEIABAYgQgAEBiBCAAQGIEIABAYgQgAEBiBCAAQGIEIABAYgQgAEBiBCAAQGIEIABAYgQgAEBiBCAAQGIEIABAYgQgAEBiBCAAQGIEIABAYgQgAEBiBCAAQGIEIABAYgQgAEBiBCAAQGIEIABAYgQgAEBiBCAAQGIEIABAYgQgAEBiBCAAQGIEIABAYgQgAEBiBCAAQGIEIABAYgQgAEBiBCAAQGIEIABAYgQgAEBiBCAAQGIEIABAYgQgAEBiBCAAQGIEIABAYpIPwNWrV8fFF18cAwcOjMmTJ8euXbsKPRIAQK9KOgB/8IMfRFNTU9x3333x3HPPxVVXXRXTpk2Lw4cPF3o0AIBek3QAPvTQQ3HHHXfEbbfdFpdddlmsXbs2Bg8eHP/8z/9c6NEAAHpN/0IPUCinTp2KPXv2xIIFC/Jn5eXl0dDQEDt27Djr13R1dUVXV1f+9rFjxyIi4ujRo707LP+vXC4XJ06ciCNHjkRFRUWhx0maXRQX+ygedlE8fvf7dpZlBZ6kcJINwF/+8pdx+vTpqK6u7nFeXV0dL7/88lm/ZtmyZbF48eIzzj/4wQ/2yowAQO85cuRIDB8+vNBjFESyAfheLFiwIJqamvK3Ozo64qKLLopDhw4l+3+gYtHZ2RljxoyJV199NYYNG1bocZJmF8XFPoqHXRSPY8eOxdixY2PkyJGFHqVgkg3ACy64IPr16xft7e09ztvb26OmpuasX1NZWRmVlZVnnA8fPtxP5iIxbNgwuygSdlFc7KN42EXxKC9P96MQyT7zAQMGxMSJE6OlpSV/1t3dHS0tLVFfX1/AyQAAeley7wBGRDQ1NcXs2bNj0qRJce2118bKlSvj+PHjcdtttxV6NACAXpN0AP7lX/5l/Pd//3csWrQo2traYsKECbFp06YzPhjydiorK+O+++476x8L07fsonjYRXGxj+JhF8XDLiLKspQ/Aw0AkKBkvwcQACBVAhAAIDECEAAgMQIQACAxAvA9Wr16dVx88cUxcODAmDx5cuzatavQI5W8ZcuWxTXXXBNDhw6NUaNGxfTp02Pfvn09rjl58mQ0NjZGVVVVnHfeeTFjxowz/rJvzr0HH3wwysrKYt68efkzu+hbr732Wnzuc5+LqqqqGDRoUFx55ZXx7LPP5u/PsiwWLVoUo0ePjkGDBkVDQ0McOHCggBOXptOnT8fChQujrq4uBg0aFJdcckl89atf7fFvztpF79i2bVvcfPPNUVtbG2VlZfHUU0/1uP+dvO5Hjx6NWbNmxbBhw2LEiBFx++23x1tvvdWHz6LvCMD34Ac/+EE0NTXFfffdF88991xcddVVMW3atDh8+HChRytpW7dujcbGxti5c2c0NzdHLpeLT3ziE3H8+PH8NfPnz4+nn346nnzyydi6dWu8/vrrceuttxZw6tK3e/fu+Na3vhUf+tCHepzbRd/51a9+FVOmTImKiop45pln4sUXX4yvf/3rcf755+evWbFiRaxatSrWrl0bra2tMWTIkJg2bVqcPHmygJOXnuXLl8eaNWvikUceiZdeeimWL18eK1asiIcffjh/jV30juPHj8dVV10Vq1evPuv97+R1nzVrVvziF7+I5ubm2LhxY2zbti3mzJnTV0+hb2W8a9dee23W2NiYv3369OmstrY2W7ZsWQGnSs/hw4eziMi2bt2aZVmWdXR0ZBUVFdmTTz6Zv+all17KIiLbsWNHocYsaW+++WY2bty4rLm5OfvoRz+a3X333VmW2UVf+9KXvpRdf/31b3t/d3d3VlNTk33ta1/Ln3V0dGSVlZXZ97///b4YMRk33XRT9vnPf77H2a233prNmjUryzK76CsRkW3YsCF/+5287i+++GIWEdnu3bvz1zzzzDNZWVlZ9tprr/XZ7H3FO4Dv0qlTp2LPnj3R0NCQPysvL4+GhobYsWNHASdLz7FjxyIi8v+Y9549eyKXy/XYzfjx42Ps2LF200saGxvjpptu6vGaR9hFX/vxj38ckyZNis985jMxatSouPrqq+Pb3/52/v6DBw9GW1tbj30MHz48Jk+ebB/n2HXXXRctLS2xf//+iIj42c9+Ftu3b49PfepTEWEXhfJOXvcdO3bEiBEjYtKkSflrGhoaory8PFpbW/t85t6W9L8E8l788pe/jNOnT5/xr4VUV1fHyy+/XKCp0tPd3R3z5s2LKVOmxBVXXBEREW1tbTFgwIAYMWJEj2urq6ujra2tAFOWtieeeCKee+652L179xn32UXfeuWVV2LNmjXR1NQUX/7yl2P37t3xxS9+MQYMGBCzZ8/Ov+Zn+3XLPs6te++9Nzo7O2P8+PHRr1+/OH36dNx///0xa9asiAi7KJB38rq3tbXFqFGjetzfv3//GDlyZEnuRgDyvtTY2BgvvPBCbN++vdCjJOnVV1+Nu+++O5qbm2PgwIGFHid53d3dMWnSpHjggQciIuLqq6+OF154IdauXRuzZ88u8HRp+eEPfxiPP/54rF+/Pi6//PJ4/vnnY968eVFbW2sXFBV/BPwuXXDBBdGvX78zPs3Y3t4eNTU1BZoqLXPnzo2NGzfGli1b4sILL8yf19TUxKlTp6Kjo6PH9XZz7u3ZsycOHz4cH/7wh6N///7Rv3//2Lp1a6xatSr69+8f1dXVdtGHRo8eHZdddlmPs0svvTQOHToUEZF/zf261fv+4R/+Ie69996YOXNmXHnllfFXf/VXMX/+/Fi2bFlE2EWhvJPXvaam5owPc/7mN7+Jo0ePluRuBOC7NGDAgJg4cWK0tLTkz7q7u6OlpSXq6+sLOFnpy7Is5s6dGxs2bIjNmzdHXV1dj/snTpwYFRUVPXazb9++OHTokN2cYzfccEP8/Oc/j+effz7/Y9KkSTFr1qz8f9tF35kyZcoZfyXS/v3746KLLoqIiLq6uqipqemxj87OzmhtbbWPc+zEiRNRXt7zt9Z+/fpFd3d3RNhFobyT172+vj46Ojpiz549+Ws2b94c3d3dMXny5D6fudcV+lMo70dPPPFEVllZmT322GPZiy++mM2ZMycbMWJE1tbWVujRStqdd96ZDR8+PPvJT36SvfHGG/kfJ06cyF/zt3/7t9nYsWOzzZs3Z88++2xWX1+f1dfXF3DqdPzfTwFnmV30pV27dmX9+/fP7r///uzAgQPZ448/ng0ePDj73ve+l7/mwQcfzEaMGJH96Ec/yv793/89u+WWW7K6urrs17/+dQEnLz2zZ8/OPvCBD2QbN27MDh48mP3rv/5rdsEFF2T33HNP/hq76B1vvvlmtnfv3mzv3r1ZRGQPPfRQtnfv3uw///M/syx7Z6/7Jz/5yezqq6/OWltbs+3bt2fjxo3LPvvZzxbqKfUqAfgePfzww9nYsWOzAQMGZNdee222c+fOQo9U8iLirD/WrVuXv+bXv/51dtddd2Xnn39+Nnjw4OzP//zPszfeeKNwQyfk9wPQLvrW008/nV1xxRVZZWVlNn78+OzRRx/tcX93d3e2cOHCrLq6OqusrMxuuOGGbN++fQWatnR1dnZmd999dzZ27Nhs4MCB2Z/8yZ9k//iP/5h1dXXlr7GL3rFly5az/h4xe/bsLMve2et+5MiR7LOf/Wx23nnnZcOGDctuu+227M033yzAs+l9ZVn2f/56cgAASp7vAQQASIwABABIjAAEAEiMAAQASIwABABIjAAEAEiMAAQASIwABABIjAAEAEiMAAQASIwABABIjAAEAEiMAAQASIwABABIjAAEAEiMAAQASIwABABIjAAEAEiMAAQASIwABABIjAAEAEiMAAQASIwABABIjAAEAEiMAAQASIwABABIjAAEAEiMAAQASIwABABIjAAEAEiMAAQASMz/AHdO3ge4votQAAAAAElFTkSuQmCC' width=640.0/>\n",
       "            </div>\n",
       "        "
      ],
      "text/plain": [
       "Canvas(toolbar=Toolbar(toolitems=[('Home', 'Reset original view', 'home', 'home'), ('Back', 'Back to previous …"
      ]
     },
     "metadata": {},
     "output_type": "display_data"
    }
   ],
   "source": [
    "if __name__ == \"__main__\":\n",
    "    plot = DraggablePlotExample()"
   ]
  },
  {
   "cell_type": "code",
   "execution_count": null,
   "id": "ffc22ea8-bc9b-4b9c-9743-83d9b77798d5",
   "metadata": {},
   "outputs": [],
   "source": []
  }
 ],
 "metadata": {
  "kernelspec": {
   "display_name": "Python 3 (ipykernel)",
   "language": "python",
   "name": "python3"
  },
  "language_info": {
   "codemirror_mode": {
    "name": "ipython",
    "version": 3
   },
   "file_extension": ".py",
   "mimetype": "text/x-python",
   "name": "python",
   "nbconvert_exporter": "python",
   "pygments_lexer": "ipython3",
   "version": "3.8.0"
  }
 },
 "nbformat": 4,
 "nbformat_minor": 5
}
